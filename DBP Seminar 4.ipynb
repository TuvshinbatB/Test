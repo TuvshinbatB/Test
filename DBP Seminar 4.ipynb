{
 "cells": [
  {
   "cell_type": "code",
   "execution_count": 1,
   "id": "07e98bfc",
   "metadata": {},
   "outputs": [],
   "source": [
    "import numpy as np"
   ]
  },
  {
   "cell_type": "code",
   "execution_count": 5,
   "id": "3304138c",
   "metadata": {},
   "outputs": [
    {
     "name": "stdout",
     "output_type": "stream",
     "text": [
      "[50 51 52 53 54 55 56 57 58 59 60 61 62 63 64 65 66 67 68 69 70 71 72 73\n",
      " 74 75 76 77 78 79 80 81 82 83 84 85 86 87 88 89 90 91 92 93 94 95 96 97\n",
      " 98 99]\n"
     ]
    }
   ],
   "source": [
    "#1 50-100 хүртэл тоон утга бүхий нэг хэмжээст массив (вектор) үүсгэ. \n",
    "a = np.arange(50,100)\n",
    "print(a)"
   ]
  },
  {
   "cell_type": "code",
   "execution_count": 6,
   "id": "3f14674a",
   "metadata": {},
   "outputs": [
    {
     "data": {
      "text/plain": [
       "array([1., 1., 1., 1., 1., 1., 1., 1., 1., 1., 0., 0., 0., 0., 0., 0., 0.,\n",
       "       0., 0., 0., 6., 6., 6., 6., 6., 6., 6., 6., 6., 6.])"
      ]
     },
     "execution_count": 6,
     "metadata": {},
     "output_type": "execute_result"
    }
   ],
   "source": [
    "#2 Арван ширхэг 1, арван ширхэг 0, арван ширхэг 6 тоо бүхий нэг хэмжээст массивууд (вектор) үүсгэ.\n",
    "a=np.ones(10)\n",
    "b=np.zeros(10)\n",
    "c=np.ones(10)*6\n",
    "np.concatenate([a,b,c])"
   ]
  },
  {
   "cell_type": "code",
   "execution_count": 7,
   "id": "87ff61d5",
   "metadata": {},
   "outputs": [
    {
     "name": "stdout",
     "output_type": "stream",
     "text": [
      "[[20 21 22 23]\n",
      " [24 25 26 27]\n",
      " [28 29 30 31]]\n"
     ]
    }
   ],
   "source": [
    "#3 20-32 хүртэл тоон утга бүхий 3x4 хэмжээтэй массив үүсгэ.\n",
    "a=np.arange(20,32).reshape((3,4))\n",
    "print(a)"
   ]
  },
  {
   "cell_type": "code",
   "execution_count": 8,
   "id": "0d070acf",
   "metadata": {},
   "outputs": [
    {
     "name": "stdout",
     "output_type": "stream",
     "text": [
      "[[1. 0. 0.]\n",
      " [0. 1. 0.]\n",
      " [0. 0. 1.]]\n"
     ]
    }
   ],
   "source": [
    "#4 Диагональ нь 1-ийн тоо, бусад нь 0 байх 3x3 хэмжээтэй массив үүсгэ.\n",
    "a = np.eye(3,3)\n",
    "print(a)"
   ]
  },
  {
   "cell_type": "code",
   "execution_count": 9,
   "id": "aec337b0",
   "metadata": {},
   "outputs": [
    {
     "name": "stdout",
     "output_type": "stream",
     "text": [
      "[[1 0 0 0 0]\n",
      " [0 2 0 0 0]\n",
      " [0 0 3 0 0]\n",
      " [0 0 0 4 0]\n",
      " [0 0 0 0 5]]\n"
     ]
    }
   ],
   "source": [
    "#5 Диагональ нь 1-5 хүртэл тоо, бусад нь 0 байх 5х5 хэмжээтэй массив үүсгэ.\n",
    "a = np.diag([1,2,3,4,5])\n",
    "print(a)"
   ]
  },
  {
   "cell_type": "code",
   "execution_count": 20,
   "id": "8d238c47",
   "metadata": {},
   "outputs": [
    {
     "name": "stdout",
     "output_type": "stream",
     "text": [
      "[[1 2]\n",
      " [3 4]]\n",
      "niilber: 10\n",
      "bagana: [4 6]\n",
      "mur: [3 7]\n"
     ]
    }
   ],
   "source": [
    "#6 Хоёр хэмжээст массив үүсгэж нийт элементүүдийн нийлбэр, багана, мөрийн нийлбэрүүдийг хэвлэ\n",
    "x=np.array([[1,2],[3,4]])\n",
    "print(x)\n",
    "a=np.sum(x)\n",
    "b=np.sum(x, axis=0)\n",
    "c=np.sum(x, axis=1)\n",
    "print(\"niilber:\", a)\n",
    "print(\"bagana:\", b)\n",
    "print(\"mur:\",c)"
   ]
  },
  {
   "cell_type": "code",
   "execution_count": null,
   "id": "a35ac80f",
   "metadata": {},
   "outputs": [],
   "source": []
  },
  {
   "cell_type": "code",
   "execution_count": 45,
   "id": "5a0b99bd",
   "metadata": {},
   "outputs": [
    {
     "name": "stdout",
     "output_type": "stream",
     "text": [
      "A\n",
      "column [-0.92825069  0.96479977 -1.08987828  1.08148293  1.68265149]\n",
      "row [ 1.36969586 -2.85395381 -0.35509992  2.19800829  1.35215481]\n",
      "B\n",
      "column [-0.81542438 -0.54644411  2.01192487  0.82673854 -2.54699515]\n",
      "row [ 4.52195511 -0.41558647 -2.04522408 -0.88346077 -2.24788402]\n",
      "C\n",
      "column [ 0.50158209 -2.65744952 -1.85158127  0.28965035 -3.41139794]\n",
      "row [-1.8064412   0.40623121 -3.71091588 -2.50439709  0.48632667]\n",
      "D\n",
      "column [ 7.68838649 -1.27376302  0.96279525 -0.57093318  3.00225717]\n",
      "row [ 3.08135181  5.63538285  1.36191364 -1.64016603  1.37026045]\n",
      "E\n",
      "column [ 1.98437677 -0.63489298  2.52470969 -0.59811434 -4.23087866]\n",
      "row [-2.92897048  0.73557344  0.16386488 -0.56468949  1.63942214]\n",
      "F\n",
      "column [-2.91382424  3.37438534  4.43988763  0.79157199  3.9368803 ]\n",
      "row [2.0797143  0.22422478 3.93023445 0.92886219 2.4658653 ]\n",
      "G\n",
      "column [-2.40735855 -2.36273249  1.42957325  0.57502747  2.03166576]\n",
      "row [ 1.95126589 -2.66165343  2.30136833 -4.23095844  1.90615309]\n",
      "H\n",
      "column [1.43153039 1.32372692 3.89252077 1.50811278 0.50636505]\n",
      "row [ 4.83891592  2.93808529  2.55397432 -1.12407894 -0.54464068]\n",
      "I\n",
      "column [ 0.65721771  4.30838292 -2.9413488   5.3365572   1.43715611]\n",
      "row [1.51446165 0.57270937 1.21201297 3.61771214 1.88106901]\n",
      "J\n",
      "column [-3.06204378  1.33820812  1.06193052 -0.36854057  1.80321222]\n",
      "row [ 0.22772324 -0.03735399  0.28204631  1.15469846 -0.85434751]\n"
     ]
    }
   ],
   "source": [
    "#7\n",
    "x=0\n",
    "A = np.random.randn(5,5)\n",
    "B = np.random.randn(5,5)\n",
    "C = np.random.randn(5,5)\n",
    "D = np.random.randn(5,5)\n",
    "E = np.random.randn(5,5)\n",
    "F = np.random.randn(5,5)\n",
    "G = np.random.randn(5,5)\n",
    "H = np.random.randn(5,5)\n",
    "I = np.random.randn(5,5)\n",
    "J = np.random.randn(5,5)\n",
    "a=(A,B,C,D,E,F,G,H,I,J)\n",
    "b=(\"A\",\"B\",\"C\",\"D\",\"E\",\"F\",\"G\",\"H\",\"I\",\"J\")\n",
    "for i in a:\n",
    "    print(b[x])\n",
    "    x=x+1\n",
    "    print(\"column\", np.sum(i, axis=0))\n",
    "    print(\"row\", np.sum(i, axis=1))\n",
    "    "
   ]
  },
  {
   "cell_type": "code",
   "execution_count": null,
   "id": "67ca398c",
   "metadata": {},
   "outputs": [],
   "source": []
  },
  {
   "cell_type": "code",
   "execution_count": null,
   "id": "a48671da",
   "metadata": {},
   "outputs": [],
   "source": []
  }
 ],
 "metadata": {
  "kernelspec": {
   "display_name": "Python 3 (ipykernel)",
   "language": "python",
   "name": "python3"
  },
  "language_info": {
   "codemirror_mode": {
    "name": "ipython",
    "version": 3
   },
   "file_extension": ".py",
   "mimetype": "text/x-python",
   "name": "python",
   "nbconvert_exporter": "python",
   "pygments_lexer": "ipython3",
   "version": "3.9.13"
  }
 },
 "nbformat": 4,
 "nbformat_minor": 5
}
